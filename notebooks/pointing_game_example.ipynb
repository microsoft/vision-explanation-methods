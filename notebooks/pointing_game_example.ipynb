{
 "cells": [
  {
   "cell_type": "code",
   "execution_count": null,
   "metadata": {},
   "outputs": [],
   "source": [
    "import os\n",
    "\n",
    "import PIL.Image as Image\n",
    "\n",
    "import torchvision.models.detection as d\n",
    "\n",
    "from ml_wrappers.model.image_model_wrapper import PytorchDRiseWrapper\n",
    "\n",
    "from vision_explanation_methods.evaluation.pointing_game import PointingGame"
   ]
  },
  {
   "cell_type": "code",
   "execution_count": null,
   "metadata": {},
   "outputs": [],
   "source": [
    "#get path of an example image\n",
    "BASE_DIR = \"../python/vision_explanation_methods/images/\"\n",
    "img_fname = os.path.join(BASE_DIR, \"2.jpg\")"
   ]
  },
  {
   "cell_type": "code",
   "execution_count": null,
   "metadata": {},
   "outputs": [],
   "source": [
    "#get fasterrcnn model\n",
    "model = d.fasterrcnn_resnet50_fpn(pretrained=True)\n",
    "model.eval()\n",
    "model.to(\"cuda\")\n",
    "detection_model = PytorchDRiseWrapper(model=model, number_of_classes=87)"
   ]
  },
  {
   "cell_type": "code",
   "execution_count": null,
   "metadata": {},
   "outputs": [],
   "source": [
    "#find saliency scores for top 20% of salient pixels\n",
    "pg = PointingGame(detection_model)\n",
    "salient_scores = pg.pointing_game(img_fname, 0, .8)"
   ]
  },
  {
   "cell_type": "code",
   "execution_count": null,
   "metadata": {},
   "outputs": [],
   "source": [
    "#visualize the saliency map for highly salient pixels\n",
    "test_image = Image.open(img_fname).convert('RGB')\n",
    "figure = pg.visualize_highly_salient_pixels(test_image, salient_scores)"
   ]
  },
  {
   "cell_type": "code",
   "execution_count": null,
   "metadata": {},
   "outputs": [],
   "source": [
    "# find what percent of salient pixels overlap with the area of the ground truth bbox\n",
    "# each channel of the saliency scores matrix should be the same, which is why you can\n",
    "# just take the first index of s\n",
    "overlap = pg.calculate_gt_salient_pixel_overlap(salient_scores, [247, 192, 355, 493])\n",
    "overlap"
   ]
  },
  {
   "cell_type": "code",
   "execution_count": null,
   "metadata": {},
   "outputs": [],
   "source": []
  }
 ],
 "metadata": {
  "kernelspec": {
   "display_name": "aml_rotation",
   "language": "python",
   "name": "python3"
  },
  "language_info": {
   "codemirror_mode": {
    "name": "ipython",
    "version": 3
   },
   "file_extension": ".py",
   "mimetype": "text/x-python",
   "name": "python",
   "nbconvert_exporter": "python",
   "pygments_lexer": "ipython3",
   "version": "3.8.16"
  },
  "orig_nbformat": 4
 },
 "nbformat": 4,
 "nbformat_minor": 2
}
